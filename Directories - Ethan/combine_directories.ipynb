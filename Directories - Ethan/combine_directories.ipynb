{
 "cells": [
  {
   "cell_type": "code",
   "execution_count": 91,
   "metadata": {},
   "outputs": [],
   "source": [
    "import pandas as pd"
   ]
  },
  {
   "cell_type": "code",
   "execution_count": null,
   "metadata": {},
   "outputs": [],
   "source": [
    "# read dataframes\n",
    "d1 = pd.read_csv('directory1.csv')\n",
    "d2 = pd.read_csv('directory2.csv')\n",
    "d3 = pd.read_csv('directory3.csv')\n",
    "d4 = pd.read_csv('directory4.csv')\n",
    "d5 = pd.read_csv('directory5.csv')"
   ]
  },
  {
   "cell_type": "code",
   "execution_count": 81,
   "metadata": {},
   "outputs": [],
   "source": [
    "# cleaning dataframes\n",
    "d1 = d1[['school_name', 'city', 'state', 'website', 'directory']]\n",
    "d2 = d2[['school_name', 'city', 'state', 'website', 'directory']]\n",
    "d3 = d3[['school_name', 'city', 'state', 'website', 'directory']]\n",
    "d4 = d4[['school_name', 'city', 'state', 'website', 'directory']]\n",
    "d5 = d5[['school_name', 'city', 'state', 'website', 'directory']]"
   ]
  },
  {
   "cell_type": "code",
   "execution_count": 82,
   "metadata": {},
   "outputs": [],
   "source": [
    "# combining directories"
   ]
  },
  {
   "cell_type": "code",
   "execution_count": 83,
   "metadata": {},
   "outputs": [],
   "source": [
    "merged_df = pd.concat([d1, d2, d3, d4, d5], axis=0).reset_index()[['school_name','city','state','website', 'directory']]"
   ]
  },
  {
   "cell_type": "code",
   "execution_count": 84,
   "metadata": {},
   "outputs": [
    {
     "data": {
      "text/plain": [
       "10770"
      ]
     },
     "execution_count": 84,
     "metadata": {},
     "output_type": "execute_result"
    }
   ],
   "source": [
    "before_dup = len(merged_df)"
   ]
  },
  {
   "cell_type": "code",
   "execution_count": 85,
   "metadata": {},
   "outputs": [],
   "source": [
    "# remove duplicates from dataframe"
   ]
  },
  {
   "cell_type": "code",
   "execution_count": 86,
   "metadata": {},
   "outputs": [
    {
     "data": {
      "text/plain": [
       "https://kipptexas.org/school-directory/                                                                            7\n",
       "https://www.texanscan.org/staff                                                                                    6\n",
       "https://www.nuames.org/dc/dpeople                                                                                  4\n",
       "https://nobleschools.org/profiles/noble-staff/                                                                     4\n",
       "https://coloradoearlycolleges.org/families-students/staff-directory/                                               4\n",
       "                                                                                                                  ..\n",
       "https://www.redboilingspringsschool.com/o/rbss/staff                                                               1\n",
       "https://www.cde.ca.gov/schooldirectory/details?cdscode=41690470129759                                              1\n",
       "https://cg.noacsc.org/directory                                                                                    1\n",
       "https://ghs.ganado.k12.az.us/Teachers_Staff                                                                        1\n",
       "https://support.google.com/websearch/answer/134479?hl=en&sa=X&ved=2ahUKEwiN3dmF0YyAAxW8g4kEHWA3BQ0QjfsDegQIBxAC    1\n",
       "Name: directory, Length: 10412, dtype: int64"
      ]
     },
     "execution_count": 86,
     "metadata": {},
     "output_type": "execute_result"
    }
   ],
   "source": [
    "# with duplicates\n",
    "merged_df['directory'].value_counts()"
   ]
  },
  {
   "cell_type": "code",
   "execution_count": 88,
   "metadata": {},
   "outputs": [
    {
     "data": {
      "text/html": [
       "<div>\n",
       "<style scoped>\n",
       "    .dataframe tbody tr th:only-of-type {\n",
       "        vertical-align: middle;\n",
       "    }\n",
       "\n",
       "    .dataframe tbody tr th {\n",
       "        vertical-align: top;\n",
       "    }\n",
       "\n",
       "    .dataframe thead th {\n",
       "        text-align: right;\n",
       "    }\n",
       "</style>\n",
       "<table border=\"1\" class=\"dataframe\">\n",
       "  <thead>\n",
       "    <tr style=\"text-align: right;\">\n",
       "      <th></th>\n",
       "      <th>school_name</th>\n",
       "      <th>city</th>\n",
       "      <th>state</th>\n",
       "      <th>website</th>\n",
       "      <th>directory</th>\n",
       "    </tr>\n",
       "  </thead>\n",
       "  <tbody>\n",
       "    <tr>\n",
       "      <th>0</th>\n",
       "      <td>cabarrus early college of technology</td>\n",
       "      <td>concord</td>\n",
       "      <td>north carolina</td>\n",
       "      <td>cabarrus.k12.nc.us</td>\n",
       "      <td>https://www.cabarrus.k12.nc.us/site/Default.as...</td>\n",
       "    </tr>\n",
       "    <tr>\n",
       "      <th>1</th>\n",
       "      <td>perry career academy eula wilburn ponds perry ...</td>\n",
       "      <td>jonesboro</td>\n",
       "      <td>georgia</td>\n",
       "      <td>http://312.clayton.k12.ga.us/</td>\n",
       "      <td>https://nces.ed.gov/ccd/schoolsearch/school_de...</td>\n",
       "    </tr>\n",
       "    <tr>\n",
       "      <th>2</th>\n",
       "      <td>nashville comm high school</td>\n",
       "      <td>nashville</td>\n",
       "      <td>illinois</td>\n",
       "      <td>http://64.83.243.36/nashville/high/index.htm</td>\n",
       "      <td>https://nashvillek12.ss20.sharpschool.com/staf...</td>\n",
       "    </tr>\n",
       "    <tr>\n",
       "      <th>3</th>\n",
       "      <td>edon high school</td>\n",
       "      <td>edon</td>\n",
       "      <td>ohio</td>\n",
       "      <td>http://EDON-NW.ORG</td>\n",
       "      <td>https://sites.google.com/edon-nw.org/wv2/jr-sr...</td>\n",
       "    </tr>\n",
       "    <tr>\n",
       "      <th>4</th>\n",
       "      <td>explore knowledge academy j senior high school</td>\n",
       "      <td>las vegas</td>\n",
       "      <td>nevada</td>\n",
       "      <td>http://EKACADEMY.ORG</td>\n",
       "      <td>https://ekacademy.org/</td>\n",
       "    </tr>\n",
       "    <tr>\n",
       "      <th>...</th>\n",
       "      <td>...</td>\n",
       "      <td>...</td>\n",
       "      <td>...</td>\n",
       "      <td>...</td>\n",
       "      <td>...</td>\n",
       "    </tr>\n",
       "    <tr>\n",
       "      <th>10763</th>\n",
       "      <td>zillah high school</td>\n",
       "      <td>zillah</td>\n",
       "      <td>washington</td>\n",
       "      <td>https://zhs.zillahschools.org/</td>\n",
       "      <td>https://zhs.zillahschools.org/apps/pages/index...</td>\n",
       "    </tr>\n",
       "    <tr>\n",
       "      <th>10764</th>\n",
       "      <td>zuni high school</td>\n",
       "      <td>zuni</td>\n",
       "      <td>new mexico</td>\n",
       "      <td>https://zhs.zpsd.org/</td>\n",
       "      <td>https://zhs.zpsd.org/staff_directory</td>\n",
       "    </tr>\n",
       "    <tr>\n",
       "      <th>10765</th>\n",
       "      <td>sycamore high school</td>\n",
       "      <td>cincinnati</td>\n",
       "      <td>ohio</td>\n",
       "      <td>sycamoreschools.org/Domain/8</td>\n",
       "      <td>https://www.sycamoreschools.org/domain/510</td>\n",
       "    </tr>\n",
       "    <tr>\n",
       "      <th>10766</th>\n",
       "      <td>strom thurmond high school</td>\n",
       "      <td>johnston</td>\n",
       "      <td>south carolina</td>\n",
       "      <td>www.edgefield.k12.sc.us/domain/77</td>\n",
       "      <td>https://www.edgefield.k12.sc.us/site/default.a...</td>\n",
       "    </tr>\n",
       "    <tr>\n",
       "      <th>10769</th>\n",
       "      <td>south gibson county high school</td>\n",
       "      <td>medina</td>\n",
       "      <td>tennessee</td>\n",
       "      <td>www.sgchs.org/o/sgchs</td>\n",
       "      <td>https://www.gcssd.org/o/sgchs/staff</td>\n",
       "    </tr>\n",
       "  </tbody>\n",
       "</table>\n",
       "<p>10412 rows × 5 columns</p>\n",
       "</div>"
      ],
      "text/plain": [
       "                                             school_name        city  \\\n",
       "0                   cabarrus early college of technology     concord   \n",
       "1      perry career academy eula wilburn ponds perry ...   jonesboro   \n",
       "2                             nashville comm high school   nashville   \n",
       "3                                       edon high school        edon   \n",
       "4         explore knowledge academy j senior high school   las vegas   \n",
       "...                                                  ...         ...   \n",
       "10763                                 zillah high school      zillah   \n",
       "10764                                   zuni high school        zuni   \n",
       "10765                               sycamore high school  cincinnati   \n",
       "10766                         strom thurmond high school    johnston   \n",
       "10769                    south gibson county high school      medina   \n",
       "\n",
       "                state                                       website  \\\n",
       "0      north carolina                            cabarrus.k12.nc.us   \n",
       "1             georgia                 http://312.clayton.k12.ga.us/   \n",
       "2            illinois  http://64.83.243.36/nashville/high/index.htm   \n",
       "3                ohio                            http://EDON-NW.ORG   \n",
       "4              nevada                          http://EKACADEMY.ORG   \n",
       "...               ...                                           ...   \n",
       "10763      washington                https://zhs.zillahschools.org/   \n",
       "10764      new mexico                         https://zhs.zpsd.org/   \n",
       "10765            ohio                  sycamoreschools.org/Domain/8   \n",
       "10766  south carolina             www.edgefield.k12.sc.us/domain/77   \n",
       "10769       tennessee                         www.sgchs.org/o/sgchs   \n",
       "\n",
       "                                               directory  \n",
       "0      https://www.cabarrus.k12.nc.us/site/Default.as...  \n",
       "1      https://nces.ed.gov/ccd/schoolsearch/school_de...  \n",
       "2      https://nashvillek12.ss20.sharpschool.com/staf...  \n",
       "3      https://sites.google.com/edon-nw.org/wv2/jr-sr...  \n",
       "4                                 https://ekacademy.org/  \n",
       "...                                                  ...  \n",
       "10763  https://zhs.zillahschools.org/apps/pages/index...  \n",
       "10764               https://zhs.zpsd.org/staff_directory  \n",
       "10765         https://www.sycamoreschools.org/domain/510  \n",
       "10766  https://www.edgefield.k12.sc.us/site/default.a...  \n",
       "10769                https://www.gcssd.org/o/sgchs/staff  \n",
       "\n",
       "[10412 rows x 5 columns]"
      ]
     },
     "execution_count": 88,
     "metadata": {},
     "output_type": "execute_result"
    }
   ],
   "source": [
    "# dropping duplicates\n",
    "merged_df = merged_df.drop_duplicates(subset=['directory'])\n",
    "merged_df"
   ]
  },
  {
   "cell_type": "code",
   "execution_count": 90,
   "metadata": {},
   "outputs": [
    {
     "data": {
      "text/plain": [
       "https://www.vwcs.net/1/staff                                                                                                                                              1\n",
       "https://www.nationaltrail.k12.oh.us/mod/url/view.php?id=558&forceview=1                                                                                                   1\n",
       "https://www.cde.ca.gov/schooldirectory/details?cdscode=19642871996479                                                                                                     1\n",
       "https://blcschs.ss19.sharpschool.com/staff_directory                                                                                                                      1\n",
       "https://www.urbanprep.org/                                                                                                                                                1\n",
       "                                                                                                                                                                         ..\n",
       "https://www.wsd6.org/                                                                                                                                                     1\n",
       "https://www.zoominfo.com/pic/bucyrus-city-schools/22089565                                                                                                                1\n",
       "https://www.acboe.org/site/default.aspx?PageType=14&DomainID=994&PageID=5409&ModuleInstanceID=6017&ViewID=d23c305b-e295-4186-9257-b05a61f233d9&IsMoreExpandedView=True    1\n",
       "https://www.centralia.k12.wa.us/icon/staff                                                                                                                                1\n",
       "https://support.google.com/websearch/answer/134479?hl=en&sa=X&ved=2ahUKEwiN3dmF0YyAAxW8g4kEHWA3BQ0QjfsDegQIBxAC                                                           1\n",
       "Name: directory, Length: 10412, dtype: int64"
      ]
     },
     "execution_count": 90,
     "metadata": {},
     "output_type": "execute_result"
    }
   ],
   "source": [
    "# checking if duplicates were removed\n",
    "merged_df['directory'].value_counts()"
   ]
  },
  {
   "cell_type": "code",
   "execution_count": 89,
   "metadata": {},
   "outputs": [
    {
     "data": {
      "text/plain": [
       "10412"
      ]
     },
     "execution_count": 89,
     "metadata": {},
     "output_type": "execute_result"
    }
   ],
   "source": [
    "len(merged_df)"
   ]
  },
  {
   "cell_type": "code",
   "execution_count": null,
   "metadata": {},
   "outputs": [],
   "source": []
  },
  {
   "cell_type": "code",
   "execution_count": 74,
   "metadata": {},
   "outputs": [],
   "source": [
    "# export to csv"
   ]
  },
  {
   "cell_type": "code",
   "execution_count": null,
   "metadata": {},
   "outputs": [],
   "source": []
  },
  {
   "cell_type": "code",
   "execution_count": null,
   "metadata": {},
   "outputs": [],
   "source": []
  }
 ],
 "metadata": {
  "kernelspec": {
   "display_name": "Python 3",
   "language": "python",
   "name": "python3"
  },
  "language_info": {
   "codemirror_mode": {
    "name": "ipython",
    "version": 3
   },
   "file_extension": ".py",
   "mimetype": "text/x-python",
   "name": "python",
   "nbconvert_exporter": "python",
   "pygments_lexer": "ipython3",
   "version": "3.8.5"
  }
 },
 "nbformat": 4,
 "nbformat_minor": 4
}
